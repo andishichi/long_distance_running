{
 "cells": [
  {
   "cell_type": "code",
   "execution_count": 1,
   "metadata": {},
   "outputs": [],
   "source": [
    "import numpy as np\n",
    "import pandas as pd\n",
    "import matplotlib.pyplot as plt\n",
    "#pip install kaggle"
   ]
  },
  {
   "cell_type": "code",
   "execution_count": 3,
   "metadata": {},
   "outputs": [
    {
     "name": "stdout",
     "output_type": "stream",
     "text": [
      "Index(['Year of event', 'Event dates', 'Event name', 'Event distance/length',\n",
      "       'Event number of finishers', 'Athlete performance', 'Athlete club',\n",
      "       'Athlete country', 'Athlete year of birth', 'Athlete gender',\n",
      "       'Athlete age category', 'Athlete average speed', 'Athlete ID'],\n",
      "      dtype='object')\n",
      "   Year of event Event dates           Event name Event distance/length  \\\n",
      "0           2018  06.01.2018  Selva Costera (CHI)                  50km   \n",
      "1           2018  06.01.2018  Selva Costera (CHI)                  50km   \n",
      "2           2018  06.01.2018  Selva Costera (CHI)                  50km   \n",
      "3           2018  06.01.2018  Selva Costera (CHI)                  50km   \n",
      "4           2018  06.01.2018  Selva Costera (CHI)                  50km   \n",
      "\n",
      "   Event number of finishers Athlete performance        Athlete club  \\\n",
      "0                         22           4:51:39 h               Tnfrc   \n",
      "1                         22           5:15:45 h  Roberto Echeverría   \n",
      "2                         22           5:16:44 h   Puro Trail Osorno   \n",
      "3                         22           5:34:13 h            Columbia   \n",
      "4                         22           5:54:14 h      Baguales Trail   \n",
      "\n",
      "  Athlete country  Athlete year of birth Athlete gender Athlete age category  \\\n",
      "0             CHI                 1978.0              M                  M35   \n",
      "1             CHI                 1981.0              M                  M35   \n",
      "2             CHI                 1987.0              M                  M23   \n",
      "3             ARG                 1976.0              M                  M40   \n",
      "4             CHI                 1992.0              M                  M23   \n",
      "\n",
      "  Athlete average speed  Athlete ID  \n",
      "0                10.286           0  \n",
      "1                 9.501           1  \n",
      "2                 9.472           2  \n",
      "3                 8.976           3  \n",
      "4                 8.469           4  \n"
     ]
    }
   ],
   "source": [
    "umData = pd.read_csv(\"TWO_CENTURIES_OF_UM_RACES.csv\", dtype={\"Athlete age category\": str}, low_memory=False)\n",
    "print(umData.columns)\n",
    "print(umData.head())\n",
    "#print([\"Athlete age category\"].unique())"
   ]
  },
  {
   "cell_type": "code",
   "execution_count": null,
   "metadata": {},
   "outputs": [],
   "source": []
  }
 ],
 "metadata": {
  "kernelspec": {
   "display_name": "235mod2_pandas",
   "language": "python",
   "name": "python3"
  },
  "language_info": {
   "codemirror_mode": {
    "name": "ipython",
    "version": 3
   },
   "file_extension": ".py",
   "mimetype": "text/x-python",
   "name": "python",
   "nbconvert_exporter": "python",
   "pygments_lexer": "ipython3",
   "version": "3.12.9"
  }
 },
 "nbformat": 4,
 "nbformat_minor": 2
}
